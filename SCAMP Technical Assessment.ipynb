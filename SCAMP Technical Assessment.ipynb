{
 "cells": [
  {
   "cell_type": "markdown",
   "metadata": {},
   "source": [
    "# Data Preparation"
   ]
  },
  {
   "cell_type": "code",
   "execution_count": 1,
   "metadata": {},
   "outputs": [],
   "source": [
    "# load libraries and customize settings\n",
    "import pandas as pd\n",
    "import numpy as np\n",
    "import matplotlib.pyplot as plt\n",
    "import seaborn as sns\n",
    "\n",
    "%matplotlib inline\n",
    "pd.set_option('display.max.columns', None)\n",
    "\n",
    "import warnings\n",
    "warnings.filterwarnings('ignore')\n",
    "\n",
    "from matplotlib import rcParams\n",
    "rcParams['figure.figsize'] = [8, 6]"
   ]
  },
  {
   "cell_type": "code",
   "execution_count": 2,
   "metadata": {},
   "outputs": [
    {
     "data": {
      "text/html": [
       "<div>\n",
       "<style scoped>\n",
       "    .dataframe tbody tr th:only-of-type {\n",
       "        vertical-align: middle;\n",
       "    }\n",
       "\n",
       "    .dataframe tbody tr th {\n",
       "        vertical-align: top;\n",
       "    }\n",
       "\n",
       "    .dataframe thead th {\n",
       "        text-align: right;\n",
       "    }\n",
       "</style>\n",
       "<table border=\"1\" class=\"dataframe\">\n",
       "  <thead>\n",
       "    <tr style=\"text-align: right;\">\n",
       "      <th></th>\n",
       "      <th>Name</th>\n",
       "      <th>Author</th>\n",
       "      <th>User Rating</th>\n",
       "      <th>Reviews</th>\n",
       "      <th>Price</th>\n",
       "      <th>Year</th>\n",
       "      <th>Genre</th>\n",
       "    </tr>\n",
       "  </thead>\n",
       "  <tbody>\n",
       "    <tr>\n",
       "      <th>359</th>\n",
       "      <td>The Daily Show with Jon Stewart Presents Earth...</td>\n",
       "      <td>Jon Stewart</td>\n",
       "      <td>4.4</td>\n",
       "      <td>440</td>\n",
       "      <td>11</td>\n",
       "      <td>2010</td>\n",
       "      <td>Non Fiction</td>\n",
       "    </tr>\n",
       "    <tr>\n",
       "      <th>402</th>\n",
       "      <td>The Help</td>\n",
       "      <td>Kathryn Stockett</td>\n",
       "      <td>4.8</td>\n",
       "      <td>13871</td>\n",
       "      <td>6</td>\n",
       "      <td>2009</td>\n",
       "      <td>Fiction</td>\n",
       "    </tr>\n",
       "    <tr>\n",
       "      <th>260</th>\n",
       "      <td>Outliers: The Story of Success</td>\n",
       "      <td>Malcolm Gladwell</td>\n",
       "      <td>4.6</td>\n",
       "      <td>10426</td>\n",
       "      <td>20</td>\n",
       "      <td>2009</td>\n",
       "      <td>Non Fiction</td>\n",
       "    </tr>\n",
       "    <tr>\n",
       "      <th>268</th>\n",
       "      <td>Pokémon Deluxe Essential Handbook: The Need-to...</td>\n",
       "      <td>Scholastic</td>\n",
       "      <td>4.7</td>\n",
       "      <td>3503</td>\n",
       "      <td>9</td>\n",
       "      <td>2016</td>\n",
       "      <td>Fiction</td>\n",
       "    </tr>\n",
       "    <tr>\n",
       "      <th>540</th>\n",
       "      <td>Wonder</td>\n",
       "      <td>R. J. Palacio</td>\n",
       "      <td>4.8</td>\n",
       "      <td>21625</td>\n",
       "      <td>9</td>\n",
       "      <td>2013</td>\n",
       "      <td>Fiction</td>\n",
       "    </tr>\n",
       "  </tbody>\n",
       "</table>\n",
       "</div>"
      ],
      "text/plain": [
       "                                                  Name            Author  \\\n",
       "359  The Daily Show with Jon Stewart Presents Earth...       Jon Stewart   \n",
       "402                                           The Help  Kathryn Stockett   \n",
       "260                     Outliers: The Story of Success  Malcolm Gladwell   \n",
       "268  Pokémon Deluxe Essential Handbook: The Need-to...        Scholastic   \n",
       "540                                             Wonder     R. J. Palacio   \n",
       "\n",
       "     User Rating  Reviews  Price  Year        Genre  \n",
       "359          4.4      440     11  2010  Non Fiction  \n",
       "402          4.8    13871      6  2009      Fiction  \n",
       "260          4.6    10426     20  2009  Non Fiction  \n",
       "268          4.7     3503      9  2016      Fiction  \n",
       "540          4.8    21625      9  2013      Fiction  "
      ]
     },
     "execution_count": 2,
     "metadata": {},
     "output_type": "execute_result"
    }
   ],
   "source": [
    "# load and preview dataset\n",
    "df = pd.read_csv('bestsellers with categories.csv')\n",
    "df.sample(5)"
   ]
  },
  {
   "cell_type": "code",
   "execution_count": 3,
   "metadata": {},
   "outputs": [
    {
     "name": "stdout",
     "output_type": "stream",
     "text": [
      "<class 'pandas.core.frame.DataFrame'>\n",
      "RangeIndex: 550 entries, 0 to 549\n",
      "Data columns (total 7 columns):\n",
      " #   Column       Non-Null Count  Dtype  \n",
      "---  ------       --------------  -----  \n",
      " 0   Name         550 non-null    object \n",
      " 1   Author       550 non-null    object \n",
      " 2   User Rating  550 non-null    float64\n",
      " 3   Reviews      550 non-null    int64  \n",
      " 4   Price        550 non-null    int64  \n",
      " 5   Year         550 non-null    int64  \n",
      " 6   Genre        550 non-null    object \n",
      "dtypes: float64(1), int64(3), object(3)\n",
      "memory usage: 30.2+ KB\n"
     ]
    }
   ],
   "source": [
    "# preview basic dataset information\n",
    "df.info()"
   ]
  },
  {
   "cell_type": "markdown",
   "metadata": {},
   "source": [
    "This dataset has 550 records and 7 variables. Each variable has 550 non-null values, meaning there are no missing values. Three variables (Name, Author, and Genre) are of object data type while the rest are numerical in nature. "
   ]
  },
  {
   "cell_type": "code",
   "execution_count": 4,
   "metadata": {},
   "outputs": [
    {
     "data": {
      "text/plain": [
       "False"
      ]
     },
     "execution_count": 4,
     "metadata": {},
     "output_type": "execute_result"
    }
   ],
   "source": [
    "# check for duplicated values\n",
    "df.duplicated().any()"
   ]
  },
  {
   "cell_type": "code",
   "execution_count": 5,
   "metadata": {
    "scrolled": false
   },
   "outputs": [
    {
     "name": "stdout",
     "output_type": "stream",
     "text": [
      "Showing results for variable Name\n",
      "Number of unique values: 351\n",
      "['10-Day Green Smoothie Cleanse' '11/22/63: A Novel'\n",
      " '12 Rules for Life: An Antidote to Chaos' '1984 (Signet Classics)'\n",
      " '5,000 Awesome Facts (About Everything!) (National Geographic Kids)'\n",
      " 'A Dance with Dragons (A Song of Ice and Fire)'\n",
      " 'A Game of Thrones / A Clash of Kings / A Storm of Swords / A Feast of Crows / A Dance with Dragons'\n",
      " 'A Gentleman in Moscow: A Novel'\n",
      " 'A Higher Loyalty: Truth, Lies, and Leadership'\n",
      " 'A Man Called Ove: A Novel'\n",
      " \"A Patriot's History of the United States: From Columbus's Great Discovery to the War on Terror\"\n",
      " 'A Stolen Life: A Memoir' 'A Wrinkle in Time (Time Quintet)'\n",
      " 'Act Like a Lady, Think Like a Man: What Men Really Think About Love, Relationships, Intimacy, and Commitment'\n",
      " 'Adult Coloring Book Designs: Stress Relief Coloring Book: Garden Designs, Mandalas, Animals, and Paisley Patterns'\n",
      " 'Adult Coloring Book: Stress Relieving Animal Designs'\n",
      " 'Adult Coloring Book: Stress Relieving Patterns'\n",
      " 'Adult Coloring Books: A Coloring Book for Adults Featuring Mandalas and Henna Inspired Flowers, Animals, and Paisley…'\n",
      " 'Alexander Hamilton' 'All the Light We Cannot See' 'Allegiant'\n",
      " 'American Sniper: The Autobiography of the Most Lethal Sniper in U.S. Military History'\n",
      " 'And the Mountains Echoed'\n",
      " 'Arguing with Idiots: How to Stop Small Minds and Big Government'\n",
      " 'Astrophysics for People in a Hurry'\n",
      " 'Autobiography of Mark Twain, Vol. 1' 'Baby Touch and Feel: Animals'\n",
      " \"Balance (Angie's Extreme Stress Menders)\"\n",
      " 'Barefoot Contessa Foolproof: Recipes You Can Trust: A Cookbook'\n",
      " 'Barefoot Contessa, How Easy Is That?: Fabulous Recipes & Easy Tips'\n",
      " 'Becoming' 'Being Mortal: Medicine and What Matters in the End'\n",
      " 'Between the World and Me' 'Born to Run'\n",
      " 'Breaking Dawn (The Twilight Saga, Book 4)'\n",
      " 'Broke: The Plan to Restore Our Trust, Truth and Treasure'\n",
      " 'Brown Bear, Brown Bear, What Do You See?'\n",
      " 'Cabin Fever (Diary of a Wimpy Kid, Book 6)'\n",
      " 'Calm the F*ck Down: An Irreverent Adult Coloring Book (Irreverent Book Series)'\n",
      " \"Can't Hurt Me: Master Your Mind and Defy the Odds\"\n",
      " 'Capital in the Twenty First Century' 'Catching Fire (The Hunger Games)'\n",
      " 'Cravings: Recipes for All the Food You Want to Eat: A Cookbook'\n",
      " 'Crazy Love: Overwhelmed by a Relentless God'\n",
      " 'Crazy Rich Asians (Crazy Rich Asians Trilogy)'\n",
      " 'Creative Haven Creative Cats Coloring Book (Adult Coloring)'\n",
      " 'Creative Haven Owls Coloring Book (Adult Coloring)' 'Cutting for Stone'\n",
      " 'Daring Greatly: How the Courage to Be Vulnerable Transforms the Way We Live, Love, Parent, and Lead'\n",
      " 'David and Goliath: Underdogs, Misfits, and the Art of Battling Giants'\n",
      " 'Dead And Gone: A Sookie Stackhouse Novel (Sookie Stackhouse/True Blood)'\n",
      " 'Dead in the Family (Sookie Stackhouse/True Blood, Book 10)'\n",
      " 'Dead Reckoning (Sookie Stackhouse/True Blood, Book 11)'\n",
      " 'Dear Zoo: A Lift-the-Flap Book' 'Decision Points'\n",
      " 'Delivering Happiness: A Path to Profits, Passion, and Purpose'\n",
      " 'Diagnostic and Statistical Manual of Mental Disorders, 5th Edition: DSM-5'\n",
      " 'Diary of a Wimpy Kid: Hard Luck, Book 8'\n",
      " 'Diary of a Wimpy Kid: The Last Straw (Book 3)'\n",
      " 'Diary of a Wimpy Kid: The Long Haul'\n",
      " 'Difficult Riddles For Smart Kids: 300 Difficult Riddles And Brain Teasers Families Will Love (Books for Smart Kids)'\n",
      " 'Divergent' 'Divergent / Insurgent'\n",
      " 'Divine Soul Mind Body Healing and Transmission System: The Divine Way to Heal You, Humanity, Mother Earth, and All…'\n",
      " 'Doctor Sleep: A Novel'\n",
      " 'Dog Days (Diary of a Wimpy Kid, Book 4) (Volume 4)'\n",
      " 'Dog Man and Cat Kid: From the Creator of Captain Underpants (Dog Man #4)'\n",
      " 'Dog Man: A Tale of Two Kitties: From the Creator of Captain Underpants (Dog Man #3)'\n",
      " 'Dog Man: Brawl of the Wild: From the Creator of Captain Underpants (Dog Man #6)'\n",
      " 'Dog Man: Fetch-22: From the Creator of Captain Underpants (Dog Man #8)'\n",
      " 'Dog Man: For Whom the Ball Rolls: From the Creator of Captain Underpants (Dog Man #7)'\n",
      " 'Dog Man: Lord of the Fleas: From the Creator of Captain Underpants (Dog Man #5)'\n",
      " 'Double Down (Diary of a Wimpy Kid #11)'\n",
      " 'Dover Creative Haven Art Nouveau Animal Designs Coloring Book (Creative Haven Coloring Books)'\n",
      " 'Drive: The Surprising Truth About What Motivates Us'\n",
      " 'Eat This Not That! Supermarket Survival Guide: The No-Diet Weight Loss Solution'\n",
      " 'Eat This, Not That! Thousands of Simple Food Swaps that Can Save You 10, 20, 30 Pounds--or More!'\n",
      " 'Eat to Live: The Amazing Nutrient-Rich Program for Fast and Sustained Weight Loss, Revised Edition'\n",
      " 'Eclipse (Twilight Sagas)' 'Eclipse (Twilight)' 'Educated: A Memoir'\n",
      " 'Enchanted Forest: An Inky Quest and Coloring book (Activity Books, Mindfulness and Meditation, Illustrated Floral Prints…'\n",
      " 'Fahrenheit 451'\n",
      " 'Fantastic Beasts and Where to Find Them: The Original Screenplay (Harry Potter)'\n",
      " 'Fear: Trump in the White House' 'Fifty Shades Darker'\n",
      " 'Fifty Shades Freed: Book Three of the Fifty Shades Trilogy (Fifty Shades of Grey Series) (English Edition)'\n",
      " 'Fifty Shades of Grey: Book One of the Fifty Shades Trilogy (Fifty Shades of Grey Series)'\n",
      " 'Fifty Shades Trilogy (Fifty Shades of Grey / Fifty Shades Darker / Fifty Shades Freed)'\n",
      " 'Fire and Fury: Inside the Trump White House' 'First 100 Words'\n",
      " \"Food Rules: An Eater's Manual\" 'Frozen (Little Golden Book)'\n",
      " 'Game Change: Obama and the Clintons, McCain and Palin, and the Race of a Lifetime'\n",
      " 'Game of Thrones Boxed Set: A Game of Thrones/A Clash of Kings/A Storm of Swords/A Feast for Crows'\n",
      " \"George Washington's Sacred Fire\"\n",
      " \"George Washington's Secret Six: The Spy Ring That Saved the American Revolution\"\n",
      " \"Giraffes Can't Dance\"\n",
      " 'Girl, Stop Apologizing: A Shame-Free Plan for Embracing and Achieving Your Goals'\n",
      " 'Girl, Wash Your Face: Stop Believing the Lies About Who You Are So You Can Become Who You Were Meant to Be'\n",
      " \"Glenn Beck's Common Sense: The Case Against an Out-of-Control Government, Inspired by Thomas Paine\"\n",
      " 'Go Set a Watchman: A Novel' 'Go the F**k to Sleep'\n",
      " 'Going Rogue: An American Life' 'Gone Girl'\n",
      " 'Good Days Start With Gratitude: A 52 Week Guide To Cultivate An Attitude Of Gratitude: Gratitude Journal'\n",
      " \"Good to Great: Why Some Companies Make the Leap and Others Don't\"\n",
      " 'Goodnight Moon'\n",
      " 'Goodnight, Goodnight Construction Site (Hardcover Books for Toddlers, Preschool Books for Kids)'\n",
      " \"Grain Brain: The Surprising Truth about Wheat, Carbs, and Sugar--Your Brain's Silent Killers\"\n",
      " 'Grey: Fifty Shades of Grey as Told by Christian (Fifty Shades of Grey Series)'\n",
      " 'Guts' 'Hamilton: The Revolution'\n",
      " 'Happy, Happy, Happy: My Life and Legacy as the Duck Commander'\n",
      " 'Harry Potter and the Chamber of Secrets: The Illustrated Edition (Harry Potter, Book 2)'\n",
      " 'Harry Potter and the Cursed Child, Parts 1 & 2, Special Rehearsal Edition Script'\n",
      " 'Harry Potter and the Goblet of Fire: The Illustrated Edition (Harry Potter, Book 4) (4)'\n",
      " 'Harry Potter and the Prisoner of Azkaban: The Illustrated Edition (Harry Potter, Book 3)'\n",
      " \"Harry Potter and the Sorcerer's Stone: The Illustrated Edition (Harry Potter, Book 1)\"\n",
      " 'Harry Potter Coloring Book' 'Harry Potter Paperback Box Set (Books 1-7)'\n",
      " 'Have a Little Faith: A True Story'\n",
      " \"Heaven is for Real: A Little Boy's Astounding Story of His Trip to Heaven and Back\"\n",
      " 'Hillbilly Elegy: A Memoir of a Family and Culture in Crisis'\n",
      " 'Homebody: A Guide to Creating Spaces You Never Want to Leave'\n",
      " 'How to Win Friends & Influence People' 'Howard Stern Comes Again'\n",
      " 'Humans of New York' 'Humans of New York : Stories'\n",
      " 'Hyperbole and a Half: Unfortunate Situations, Flawed Coping Mechanisms, Mayhem, and Other Things That Happened'\n",
      " 'I Am Confident, Brave & Beautiful: A Coloring Book for Girls'\n",
      " 'I, Alex Cross' 'If Animals Kissed Good Night' 'If I Stay'\n",
      " \"In the Garden of Beasts: Love, Terror, and an American Family in Hitler's Berlin\"\n",
      " 'Inferno' 'Inheritance: Book IV (Inheritance Cycle)'\n",
      " 'Instant Pot Pressure Cooker Cookbook: 500 Everyday Recipes for Beginners and Advanced Users. Try Easy and Healthy…'\n",
      " \"It's Not Supposed to Be This Way: Finding Unexpected Strength When Disappointments Leave You Shattered\"\n",
      " 'Jesus Calling: Enjoying Peace in His Presence (with Scripture References)'\n",
      " 'JOURNEY TO THE ICE P' 'Joyland (Hard Case Crime)'\n",
      " 'Killers of the Flower Moon: The Osage Murders and the Birth of the FBI'\n",
      " \"Killing Jesus (Bill O'Reilly's Killing Series)\"\n",
      " 'Killing Kennedy: The End of Camelot'\n",
      " \"Killing Lincoln: The Shocking Assassination that Changed America Forever (Bill O'Reilly's Killing Series)\"\n",
      " \"Killing Patton: The Strange Death of World War II's Most Audacious General (Bill O'Reilly's Killing Series)\"\n",
      " \"Killing Reagan: The Violent Assault That Changed a Presidency (Bill O'Reilly's Killing Series)\"\n",
      " \"Killing the Rising Sun: How America Vanquished World War II Japan (Bill O'Reilly's Killing Series)\"\n",
      " 'Kitchen Confidential Updated Edition: Adventures in the Culinary Underbelly (P.S.)'\n",
      " 'Knock-Knock Jokes for Kids'\n",
      " 'Last Week Tonight with John Oliver Presents A Day in the Life of Marlon Bundo (Better Bundo Book, LGBT Children\\x92s Book)'\n",
      " 'Laugh-Out-Loud Jokes for Kids'\n",
      " 'Lean In: Women, Work, and the Will to Lead' 'Leonardo da Vinci'\n",
      " \"Lettering and Modern Calligraphy: A Beginner's Guide: Learn Hand Lettering and Brush Lettering\"\n",
      " 'Liberty and Tyranny: A Conservative Manifesto' 'Life'\n",
      " 'Little Bee: A Novel' 'Little Blue Truck' 'Little Fires Everywhere'\n",
      " 'Looking for Alaska'\n",
      " 'Love Wins: A Book About Heaven, Hell, and the Fate of Every Person Who Ever Lived'\n",
      " 'Love You Forever'\n",
      " 'Magnolia Table: A Collection of Recipes for Gathering'\n",
      " 'Make It Ahead: A Barefoot Contessa Cookbook'\n",
      " 'Make Your Bed: Little Things That Can Change Your Life...And Maybe the World'\n",
      " 'Mastering the Art of French Cooking, Vol. 2' 'Milk and Honey'\n",
      " 'Milk and Vine: Inspirational Quotes From Classic Vines'\n",
      " 'Mindset: The New Psychology of Success' 'Mockingjay (The Hunger Games)'\n",
      " 'National Geographic Kids Why?: Over 1,111 Answers to Everything'\n",
      " 'National Geographic Little Kids First Big Book of Why (National Geographic Little Kids First Big Books)'\n",
      " 'New Moon (The Twilight Saga)' 'Night (Night)'\n",
      " 'No Easy Day: The Autobiography of a Navy Seal: The Firsthand Account of the Mission That Killed Osama Bin Laden'\n",
      " 'Obama: An Intimate Portrait' \"Oh, the Places You'll Go!\"\n",
      " 'Old School (Diary of a Wimpy Kid #10)' 'Olive Kitteridge'\n",
      " 'One Thousand Gifts: A Dare to Live Fully Right Where You Are'\n",
      " 'Option B: Facing Adversity, Building Resilience, and Finding Joy'\n",
      " 'Origin: A Novel (Robert Langdon)' 'Orphan Train'\n",
      " 'Outliers: The Story of Success'\n",
      " 'P is for Potty! (Sesame Street) (Lift-the-Flap)'\n",
      " 'Percy Jackson and the Olympians Paperback Boxed Set (Books 1-3)'\n",
      " \"Player's Handbook (Dungeons & Dragons)\"\n",
      " 'Pokémon Deluxe Essential Handbook: The Need-to-Know Stats and Facts on Over 700 Pokémon'\n",
      " \"Proof of Heaven: A Neurosurgeon's Journey into the Afterlife\"\n",
      " 'Publication Manual of the American Psychological Association, 6th Edition'\n",
      " 'Puppy Birthday to You! (Paw Patrol) (Little Golden Book)'\n",
      " \"Quiet: The Power of Introverts in a World That Can't Stop Talking\"\n",
      " 'Radical: Taking Back Your Faith from the American Dream'\n",
      " 'Ready Player One: A Novel'\n",
      " 'Rush Revere and the Brave Pilgrims: Time-Travel Adventures with Exceptional Americans (1)'\n",
      " 'Rush Revere and the First Patriots: Time-Travel Adventures With Exceptional Americans (2)'\n",
      " 'Salt, Fat, Acid, Heat: Mastering the Elements of Good Cooking'\n",
      " \"Sarah's Key\"\n",
      " 'School Zone - Big Preschool Workbook - Ages 4 and Up, Colors, Shapes, Numbers 1-10, Alphabet, Pre-Writing, Pre-Reading…'\n",
      " 'Secret Garden: An Inky Treasure Hunt and Coloring Book (For Adults, mindfulness coloring)'\n",
      " 'Sh*t My Dad Says'\n",
      " 'Ship of Fools: How a Selfish Ruling Class Is Bringing America to the Brink of Revolution'\n",
      " 'Shred: The Revolutionary Diet: 6 Weeks 4 Inches 2 Sizes'\n",
      " 'Sookie Stackhouse'\n",
      " 'Soul Healing Miracles: Ancient and New Sacred Wisdom, Knowledge, and Practical Techniques for Healing the Spiritual…'\n",
      " 'Steve Jobs' 'Strange Planet (Strange Planet Series)'\n",
      " 'StrengthsFinder 2.0'\n",
      " 'Super Freakonomics: Global Cooling, Patriotic Prostitutes, and Why Suicide Bombers Should Buy Life Insurance'\n",
      " 'Switch: How to Change Things When Change Is Hard'\n",
      " 'Sycamore Row (Jake Brigance)'\n",
      " 'Teach Like a Champion: 49 Techniques that Put Students on the Path to College'\n",
      " \"The 17 Day Diet: A Doctor's Plan Designed for Rapid Results\"\n",
      " 'The 4 Hour Body: An Uncommon Guide to Rapid Fat Loss, Incredible Sex and Becoming Superhuman'\n",
      " 'The 5 Love Languages: The Secret to Love That Lasts'\n",
      " 'The 5 Love Languages: The Secret to Love that Lasts'\n",
      " 'The 5000 Year Leap'\n",
      " 'The 7 Habits of Highly Effective People: Powerful Lessons in Personal Change'\n",
      " 'The Alchemist' 'The Amateur' 'The Art of Racing in the Rain: A Novel'\n",
      " 'The Big Short: Inside the Doomsday Machine'\n",
      " 'The Blood of Olympus (The Heroes of Olympus (5))'\n",
      " 'The Blood Sugar Solution: The UltraHealthy Program for Losing Weight, Preventing Disease, and Feeling Great Now!'\n",
      " 'The Body Keeps the Score: Brain, Mind, and Body in the Healing of Trauma'\n",
      " 'The Book of Basketball: The NBA According to The Sports Guy'\n",
      " 'The Book Thief' 'The Book with No Pictures'\n",
      " 'The Boys in the Boat: Nine Americans and Their Epic Quest for Gold at the 1936 Berlin Olympics'\n",
      " 'The Casual Vacancy'\n",
      " 'The China Study: The Most Comprehensive Study of Nutrition Ever Conducted And the Startling Implications for Diet…'\n",
      " 'The Complete Ketogenic Diet for Beginners: Your Essential Guide to Living the Keto Lifestyle'\n",
      " 'The Confession: A Novel' 'The Constitution of the United States'\n",
      " \"The Daily Show with Jon Stewart Presents Earth (The Book): A Visitor's Guide to the Human Race\"\n",
      " 'The Day the Crayons Quit'\n",
      " 'The Dukan Diet: 2 Steps to Lose the Weight, 2 Steps to Keep It Off Forever'\n",
      " 'The Elegance of the Hedgehog' 'The Fault in Our Stars'\n",
      " 'The Five Dysfunctions of a Team: A Leadership Fable'\n",
      " 'The Five Love Languages: How to Express Heartfelt Commitment to Your Mate'\n",
      " 'The Four Agreements: A Practical Guide to Personal Freedom (A Toltec Wisdom Book)'\n",
      " 'The Getaway' 'The Girl on the Train'\n",
      " \"The Girl Who Kicked the Hornet's Nest (Millennium Trilogy)\"\n",
      " 'The Girl Who Played with Fire (Millennium Series)'\n",
      " 'The Girl Who Played with Fire (Millennium)'\n",
      " 'The Girl with the Dragon Tattoo (Millennium Series)'\n",
      " 'The Going-To-Bed Book'\n",
      " 'The Goldfinch: A Novel (Pulitzer Prize for Fiction)' 'The Great Gatsby'\n",
      " 'The Guardians: A Novel'\n",
      " 'The Guernsey Literary and Potato Peel Pie Society' \"The Handmaid's Tale\"\n",
      " \"The Harbinger: The Ancient Mystery that Holds the Secret of America's Future\"\n",
      " 'The Hate U Give' 'The Help'\n",
      " 'The House of Hades (Heroes of Olympus, Book 4)' 'The Hunger Games'\n",
      " 'The Hunger Games (Book 1)' 'The Hunger Games Trilogy Boxed Set (1)'\n",
      " 'The Immortal Life of Henrietta Lacks'\n",
      " 'The Instant Pot Electric Pressure Cooker Cookbook: Easy Recipes for Fast & Healthy Meals'\n",
      " 'The Last Lecture'\n",
      " 'The Last Olympian (Percy Jackson and the Olympians, Book 5)'\n",
      " 'The Legend of Zelda: Hyrule Historia'\n",
      " 'The Lego Ideas Book: Unlock Your Imagination'\n",
      " 'The Life-Changing Magic of Tidying Up: The Japanese Art of Decluttering and Organizing'\n",
      " 'The Litigators' 'The Lost Hero (Heroes of Olympus, Book 1)'\n",
      " 'The Lost Symbol' 'The Love Dare' 'The Magnolia Story'\n",
      " 'The Mark of Athena (Heroes of Olympus, Book 3)' 'The Martian'\n",
      " 'The Maze Runner (Book 1)' 'The Meltdown (Diary of a Wimpy Kid Book 13)'\n",
      " 'The Mueller Report' 'The Nightingale: A Novel'\n",
      " 'The Official SAT Study Guide'\n",
      " 'The Official SAT Study Guide, 2016 Edition (Official Study Guide for the New Sat)'\n",
      " 'The Paris Wife: A Novel'\n",
      " 'The Pioneer Woman Cooks: A Year of Holidays: 140 Step-by-Step Recipes for Simple, Scrumptious Celebrations'\n",
      " 'The Pioneer Woman Cooks: Dinnertime - Comfort Classics, Freezer Food, 16-minute Meals, and Other Delicious Ways to Solve…'\n",
      " 'The Pioneer Woman Cooks: Food from My Frontier'\n",
      " 'The Plant Paradox Cookbook: 100 Delicious Recipes to Help You Lose Weight, Heal Your Gut, and Live Lectin-Free'\n",
      " 'The Plant Paradox: The Hidden Dangers in \"Healthy\" Foods That Cause Disease and Weight Gain'\n",
      " 'The Pout-Pout Fish'\n",
      " 'The Power of Habit: Why We Do What We Do in Life and Business'\n",
      " 'The President Is Missing: A Novel' 'The Racketeer'\n",
      " 'The Red Pyramid (The Kane Chronicles, Book 1)'\n",
      " 'The Road to Serfdom: Text and Documents--The Definitive Edition (The Collected Works of F. A. Hayek, Volume 2)'\n",
      " \"The Serpent's Shadow (The Kane Chronicles, Book 3)\"\n",
      " 'The Shack: Where Tragedy Confronts Eternity'\n",
      " 'The Short Second Life of Bree Tanner: An Eclipse Novella (The Twilight Saga)'\n",
      " 'The Silent Patient' 'The Son of Neptune (Heroes of Olympus, Book 2)'\n",
      " 'The Subtle Art of Not Giving a F*ck: A Counterintuitive Approach to Living a Good Life'\n",
      " 'The Sun and Her Flowers'\n",
      " 'The Third Wheel (Diary of a Wimpy Kid, Book 7)'\n",
      " 'The Throne of Fire (The Kane Chronicles, Book 2)'\n",
      " \"The Time Traveler's Wife\"\n",
      " 'The Tipping Point: How Little Things Can Make a Big Difference'\n",
      " 'The Total Money Makeover: Classic Edition: A Proven Plan for Financial Fitness'\n",
      " 'The Twilight Saga Collection'\n",
      " 'The Ugly Truth (Diary of a Wimpy Kid, Book 5)'\n",
      " 'The Unofficial Harry Potter Cookbook: From Cauldron Cakes to Knickerbocker Glory--More Than 150 Magical Recipes for…'\n",
      " 'The Very Hungry Caterpillar'\n",
      " 'The Whole30: The 30-Day Guide to Total Health and Food Freedom'\n",
      " 'The Wonderful Things You Will Be' 'The Wonky Donkey'\n",
      " 'The Wright Brothers'\n",
      " 'Things That Matter: Three Decades of Passions, Pastimes and Politics [Deckled Edge]'\n",
      " 'Thinking, Fast and Slow' 'Thirteen Reasons Why'\n",
      " 'Thomas Jefferson: The Art of Power'\n",
      " \"Three Cups of Tea: One Man's Mission to Promote Peace - One School at a Time\"\n",
      " 'Thug Kitchen: The Official Cookbook: Eat Like You Give a F*ck (Thug Kitchen Cookbooks)'\n",
      " 'Tina Fey: Bossypants' 'To Kill a Mockingbird'\n",
      " 'Tools of Titans: The Tactics, Routines, and Habits of Billionaires, Icons, and World-Class Performers'\n",
      " 'Towers of Midnight (Wheel of Time, Book Thirteen)'\n",
      " 'True Compass: A Memoir' 'Twilight (The Twilight Saga, Book 1)'\n",
      " 'Ultimate Sticker Book: Frozen: More Than 60 Reusable Full-Color Stickers'\n",
      " 'Unbroken: A World War II Story of Survival, Resilience, and Redemption'\n",
      " 'Under the Dome: A Novel' 'Unfreedom of the Press'\n",
      " 'Unicorn Coloring Book: For Kids Ages 4-8 (US Edition) (Silly Bear Coloring Books)'\n",
      " 'Uninvited: Living Loved When You Feel Less Than, Left Out, and Lonely'\n",
      " 'Watchmen' 'Water for Elephants: A Novel' 'What Happened'\n",
      " 'What If?: Serious Scientific Answers to Absurd Hypothetical Questions'\n",
      " 'What Pet Should I Get? (Classic Seuss)'\n",
      " 'What Should Danny Do? (The Power to Choose Series)'\n",
      " \"What to Expect When You're Expecting\"\n",
      " 'Wheat Belly: Lose the Wheat, Lose the Weight, and Find Your Path Back to Health'\n",
      " 'When Breath Becomes Air' 'Where the Crawdads Sing'\n",
      " 'Where the Wild Things Are'\n",
      " \"Whose Boat Is This Boat?: Comments That Don't Help in the Aftermath of a Hurricane\"\n",
      " 'Wild: From Lost to Found on the Pacific Crest Trail'\n",
      " 'Winter of the World: Book Two of the Century Trilogy'\n",
      " 'Women Food and God: An Unexpected Path to Almost Everything' 'Wonder'\n",
      " 'Wrecking Ball (Diary of a Wimpy Kid Book 14)'\n",
      " 'You Are a Badass: How to Stop Doubting Your Greatness and Start Living an Awesome Life']\n",
      "\n",
      "Showing results for variable Author\n",
      "Number of unique values: 248\n",
      "['JJ Smith' 'Stephen King' 'Jordan B. Peterson' 'George Orwell'\n",
      " 'National Geographic Kids' 'George R. R. Martin' 'Amor Towles'\n",
      " 'James Comey' 'Fredrik Backman' 'Larry Schweikart' 'Jaycee Dugard'\n",
      " \"Madeleine L'Engle\" 'Steve Harvey' 'Adult Coloring Book Designs'\n",
      " 'Blue Star Coloring' 'Coloring Books for Adults' 'Ron Chernow'\n",
      " 'Anthony Doerr' 'Veronica Roth' 'Chris Kyle' 'Khaled Hosseini'\n",
      " 'Glenn Beck' 'Neil deGrasse Tyson' 'Mark Twain' 'DK' 'Angie Grace'\n",
      " 'Ina Garten' 'Michelle Obama' 'Atul Gawande' 'Ta-Nehisi Coates'\n",
      " 'Bruce Springsteen' 'Stephenie Meyer' 'Bill Martin Jr.' 'Jeff Kinney'\n",
      " \"Sasha O'Hara\" 'David Goggins' 'Thomas Piketty' 'Suzanne Collins'\n",
      " 'Chrissy Teigen' 'Francis Chan' 'Kevin Kwan' 'Marjorie Sarnat'\n",
      " 'Abraham Verghese' 'Brené Brown' 'Malcolm Gladwell' 'Charlaine Harris'\n",
      " 'Rod Campbell' 'George W. Bush' 'Tony Hsieh'\n",
      " 'American Psychiatric Association' 'M Prefontaine' 'Zhi Gang Sha'\n",
      " 'Dav Pilkey' 'Marty Noble' 'Daniel H. Pink' 'David Zinczenko'\n",
      " 'Joel Fuhrman MD' 'Tara Westover' 'Johanna Basford' 'Ray Bradbury'\n",
      " 'J.K. Rowling' 'Bob Woodward' 'E L James' 'Michael Wolff' 'Roger Priddy'\n",
      " 'Michael Pollan' 'RH Disney' 'John Heilemann' 'George R.R. Martin'\n",
      " 'Peter A. Lillback' 'Brian Kilmeade' 'Giles Andreae' 'Rachel Hollis'\n",
      " 'Harper Lee' 'Adam Mansbach' 'Sarah Palin' 'Gillian Flynn'\n",
      " 'Pretty Simple Press' 'Jim Collins' 'Margaret Wise Brown'\n",
      " 'Sherri Duskey Rinker' 'David Perlmutter MD' 'Raina Telgemeier'\n",
      " 'Lin-Manuel Miranda' 'Phil Robertson' 'J. K. Rowling' 'Scholastic'\n",
      " 'Mitch Albom' 'Todd Burpo' 'J. D. Vance' 'Joanna Gaines' 'Dale Carnegie'\n",
      " 'Howard Stern' 'Brandon Stanton' 'Allie Brosh' 'Hopscotch Girls'\n",
      " 'James Patterson' 'Ann Whitford Paul' 'Gayle Forman' 'Eric Larson'\n",
      " 'Dan Brown' 'Christopher Paolini' 'Jennifer Smith' 'Lysa TerKeurst'\n",
      " 'Sarah Young' 'David Grann' \"Bill O'Reilly\" 'Anthony Bourdain'\n",
      " 'Rob Elliott' 'Jill Twiss' 'Sheryl Sandberg' 'Walter Isaacson'\n",
      " 'Paper Peony Press' 'Mark R. Levin' 'Keith Richards' 'Chris Cleave'\n",
      " 'Alice Schertle' 'Celeste Ng' 'John Green' 'Rob Bell' 'Robert Munsch'\n",
      " 'Admiral William H. McRaven' 'Julia Child' 'Rupi Kaur' 'Adam Gasiewski'\n",
      " 'Carol S. Dweck' 'Crispin Boyer' 'Amy Shields' 'Elie Wiesel' 'Mark Owen'\n",
      " 'Pete Souza' 'Dr. Seuss' 'Elizabeth Strout' 'Ann Voskamp'\n",
      " 'Christina Baker Kline' 'Naomi Kleinberg' 'Rick Riordan'\n",
      " 'Wizards RPG Team' 'Eben Alexander' 'American Psychological Association'\n",
      " 'Golden Books' 'Susan Cain' 'David Platt' 'Ernest Cline' 'Rush Limbaugh'\n",
      " 'Samin Nosrat' 'Tatiana de Rosnay' 'School Zone' 'Justin Halpern'\n",
      " 'Tucker Carlson' 'Ian K. Smith M.D.' 'Nathan W. Pyle' 'Gallup'\n",
      " 'Steven D. Levitt' 'Chip Heath' 'John Grisham' 'Doug Lemov' 'Mike Moreno'\n",
      " 'Timothy Ferriss' 'Gary Chapman' 'W. Cleon Skousen' 'Stephen R. Covey'\n",
      " 'Paulo Coelho' 'Edward Klein' 'Garth Stein' 'Michael Lewis'\n",
      " 'Mark Hyman M.D.' 'Bessel van der Kolk M.D.' 'Bill Simmons'\n",
      " 'Markus Zusak' 'B. J. Novak' 'Daniel James Brown' 'Thomas Campbell'\n",
      " 'Amy Ramos' 'Delegates of the Constitutional\\x85' 'Jon Stewart'\n",
      " 'Drew Daywalt' 'Pierre Dukan' 'Muriel Barbery' 'Patrick Lencioni'\n",
      " 'Don Miguel Ruiz' 'Paula Hawkins' 'Stieg Larsson' 'Sandra Boynton'\n",
      " 'Donna Tartt' 'F. Scott Fitzgerald' 'Mary Ann Shaffer' 'Margaret Atwood'\n",
      " 'Jonathan Cahn' 'Angie Thomas' 'Kathryn Stockett' 'Rebecca Skloot'\n",
      " 'Laurel Randolph' 'Randy Pausch' 'Patrick Thorpe' 'Daniel Lipkowitz'\n",
      " 'Marie Kondō' 'Stephen Kendrick' 'Chip Gaines' 'Andy Weir'\n",
      " 'James Dashner' 'The Washington Post' 'Kristin Hannah'\n",
      " 'The College Board' 'Paula McLain' 'Ree Drummond'\n",
      " 'Dr. Steven R Gundry MD' 'Deborah Diesen' 'Charles Duhigg' 'F. A. Hayek'\n",
      " 'William P. Young' 'Alex Michaelides' 'Mark Manson' 'Audrey Niffenegger'\n",
      " 'Dave Ramsey' 'Dinah Bucholz' 'Eric Carle' 'Melissa Hartwig Urban'\n",
      " 'Emily Winfield Martin' 'Craig Smith' 'David McCullough'\n",
      " 'Charles Krauthammer' 'Daniel Kahneman' 'Jay Asher' 'Jon Meacham'\n",
      " 'Greg Mortenson' 'Thug Kitchen' 'Tina Fey' 'Robert Jordan'\n",
      " 'Edward M. Kennedy' 'Laura Hillenbrand' 'Silly Bear' 'Alan Moore'\n",
      " 'Sara Gruen' 'Hillary Rodham Clinton' 'Randall Munroe' 'Adir Levy'\n",
      " 'Heidi Murkoff' 'William Davis' 'Paul Kalanithi' 'Delia Owens'\n",
      " 'Maurice Sendak' 'The Staff of The Late Show with\\x85' 'Cheryl Strayed'\n",
      " 'Ken Follett' 'Geneen Roth' 'R. J. Palacio' 'Jen Sincero']\n",
      "\n",
      "Showing results for variable User Rating\n",
      "Number of unique values: 14\n",
      "[4.7 4.6 4.8 4.4 4.5 3.9 4.3 4.2 4.9 3.8 3.6 4.  4.1 3.3]\n",
      "\n",
      "Showing results for variable Reviews\n",
      "Number of unique values: 346\n",
      "[17350  2052 18979 21424  7665 12643 19735 19699  5983 23848   460  4149\n",
      "  5153  5013  2313  2925  2951  2426  9198 36348  6310 15921 12159   798\n",
      "  9374   491  5360  1909  1296   615 61133 11113 10070  3729  9769   471\n",
      " 14344  4505 10369 16244  2884 22614  4761  1542  6143  4022  3871  4866\n",
      "  1329  4642  1541  1924  2094 10922  2137  1651  6679  6812  3837  6540\n",
      "  7955 27098 17684    37 15845  3181  5062  4786  7235 12619  9089  5470\n",
      "  5118  2134  2525   720   956  6346  5505 28729  5413 10721  4370  6042\n",
      " 23631 20262 47265 13964 13677 17323  1555  3642  1215  5594   408  4799\n",
      " 14038  7660 22288  1365 14982  9568  1636 57271 10141  3457  8837  7038\n",
      "  5972 25624  5476  5867  4148 19622 23973  7758  3146 10052  3564 13471\n",
      "  1930 15779 15526  3776 25001  5272  3490  2812  4896  9737  1320 16643\n",
      "  7153  4571 29651  5299  7396  7062 19576   978  4748  8393 11391  8634\n",
      "  9342 10927  5235  8916  2507  3673 11881  6990  6132  3014  7550  3828\n",
      "  2752  1467  1884 25706  8491  1649 18613  9867  1386 10199  2926 17739\n",
      "  3113  5542 26741  5347  7866  5680  5178  8093  3192 21834  6169  4519\n",
      "  3163  1831 18904 21930 10426 10820   548 16990  3503 13616  8580  4757\n",
      " 10009  1985 22536  7150  3836  7802  3619 23047  9366  1265  3923  2272\n",
      "   973   220  7827  9382  5069  1583  1907 23114   637  2314  4587  3477\n",
      " 25554  1680  9325  4725 35799  2580 11813  3536  6600  1789 12361   858\n",
      " 23148  8081 23358  9372  4633 13061  3523  2774   440  8922  2023  1859\n",
      " 50482  3207   803 23308  5836 79446  7747  7251 10559  5249 33844 11616\n",
      " 13609  8587 29442 11098  9947 13871  6982 32122 16949  9289  7368  4028\n",
      "  4628  5396  4247 22641  6222  4506  8747  1655  7861  6247 39459 10101\n",
      "  5898  2744 49288  1201   807  3759  2663  3428  2876  3601  7058  9784\n",
      " 10795 10191 14493  2186  1204  2091 19720  2122 27536  4290 26490  5487\n",
      "  6377  1463 11550  3801  3796  9030 19546  7508  8842 30183  7034 11034\n",
      "  7932  1904  3319 11128  5977 26234  4360  2282   438 11676  2586 29673\n",
      "  6740  5956  6108  4585  3829  8958  5492  9292  1873  8170  3341  7497\n",
      " 13779 87841  9967  6669 17044 10760  1302 21625  9413 14331]\n",
      "\n",
      "Showing results for variable Price\n",
      "Number of unique values: 40\n",
      "[  8  22  15   6  12  11  30   3   2  32   5  17   4  13  14   9  24  21\n",
      "  18   0  28  16  10 105  20   1   7  19  54  52  25  27  46  39  53  40\n",
      "  36  82  23  42]\n",
      "\n",
      "Showing results for variable Year\n",
      "Number of unique values: 11\n",
      "[2016 2011 2018 2017 2019 2014 2010 2009 2015 2013 2012]\n",
      "\n",
      "Showing results for variable Genre\n",
      "Number of unique values: 2\n",
      "['Non Fiction' 'Fiction']\n",
      "\n"
     ]
    }
   ],
   "source": [
    "# exploring the unique values of each variable\n",
    "columns = df.columns.to_list()\n",
    "\n",
    "for column in columns:\n",
    "    print(\"Showing results for variable {}\".format(column))\n",
    "    print(\"Number of unique values:\", df[column].nunique())\n",
    "    print(df[column].unique())\n",
    "    print()"
   ]
  },
  {
   "cell_type": "markdown",
   "metadata": {},
   "source": [
    "There doesn't seem to be any weird data such as duplicated values where one is the misspelled version of the other, so we will now move on to data exploration."
   ]
  },
  {
   "cell_type": "markdown",
   "metadata": {},
   "source": [
    "# Data Exploration & Visualization"
   ]
  },
  {
   "cell_type": "code",
   "execution_count": 6,
   "metadata": {},
   "outputs": [
    {
     "data": {
      "text/html": [
       "<div>\n",
       "<style scoped>\n",
       "    .dataframe tbody tr th:only-of-type {\n",
       "        vertical-align: middle;\n",
       "    }\n",
       "\n",
       "    .dataframe tbody tr th {\n",
       "        vertical-align: top;\n",
       "    }\n",
       "\n",
       "    .dataframe thead th {\n",
       "        text-align: right;\n",
       "    }\n",
       "</style>\n",
       "<table border=\"1\" class=\"dataframe\">\n",
       "  <thead>\n",
       "    <tr style=\"text-align: right;\">\n",
       "      <th></th>\n",
       "      <th>User Rating</th>\n",
       "      <th>Reviews</th>\n",
       "      <th>Price</th>\n",
       "      <th>Year</th>\n",
       "    </tr>\n",
       "  </thead>\n",
       "  <tbody>\n",
       "    <tr>\n",
       "      <th>count</th>\n",
       "      <td>550.000000</td>\n",
       "      <td>550.000000</td>\n",
       "      <td>550.000000</td>\n",
       "      <td>550.000000</td>\n",
       "    </tr>\n",
       "    <tr>\n",
       "      <th>mean</th>\n",
       "      <td>4.618364</td>\n",
       "      <td>11953.281818</td>\n",
       "      <td>13.100000</td>\n",
       "      <td>2014.000000</td>\n",
       "    </tr>\n",
       "    <tr>\n",
       "      <th>std</th>\n",
       "      <td>0.226980</td>\n",
       "      <td>11731.132017</td>\n",
       "      <td>10.842262</td>\n",
       "      <td>3.165156</td>\n",
       "    </tr>\n",
       "    <tr>\n",
       "      <th>min</th>\n",
       "      <td>3.300000</td>\n",
       "      <td>37.000000</td>\n",
       "      <td>0.000000</td>\n",
       "      <td>2009.000000</td>\n",
       "    </tr>\n",
       "    <tr>\n",
       "      <th>25%</th>\n",
       "      <td>4.500000</td>\n",
       "      <td>4058.000000</td>\n",
       "      <td>7.000000</td>\n",
       "      <td>2011.000000</td>\n",
       "    </tr>\n",
       "    <tr>\n",
       "      <th>50%</th>\n",
       "      <td>4.700000</td>\n",
       "      <td>8580.000000</td>\n",
       "      <td>11.000000</td>\n",
       "      <td>2014.000000</td>\n",
       "    </tr>\n",
       "    <tr>\n",
       "      <th>75%</th>\n",
       "      <td>4.800000</td>\n",
       "      <td>17253.250000</td>\n",
       "      <td>16.000000</td>\n",
       "      <td>2017.000000</td>\n",
       "    </tr>\n",
       "    <tr>\n",
       "      <th>max</th>\n",
       "      <td>4.900000</td>\n",
       "      <td>87841.000000</td>\n",
       "      <td>105.000000</td>\n",
       "      <td>2019.000000</td>\n",
       "    </tr>\n",
       "  </tbody>\n",
       "</table>\n",
       "</div>"
      ],
      "text/plain": [
       "       User Rating       Reviews       Price         Year\n",
       "count   550.000000    550.000000  550.000000   550.000000\n",
       "mean      4.618364  11953.281818   13.100000  2014.000000\n",
       "std       0.226980  11731.132017   10.842262     3.165156\n",
       "min       3.300000     37.000000    0.000000  2009.000000\n",
       "25%       4.500000   4058.000000    7.000000  2011.000000\n",
       "50%       4.700000   8580.000000   11.000000  2014.000000\n",
       "75%       4.800000  17253.250000   16.000000  2017.000000\n",
       "max       4.900000  87841.000000  105.000000  2019.000000"
      ]
     },
     "execution_count": 6,
     "metadata": {},
     "output_type": "execute_result"
    }
   ],
   "source": [
    "# getting the summary statistics\n",
    "df.describe()"
   ]
  },
  {
   "cell_type": "markdown",
   "metadata": {},
   "source": [
    "User ratings range from 3.3 to 4.9. <br>\n",
    "Reviews range from 37 to 87841.<br>\n",
    "Price ranges from 0 to 105."
   ]
  },
  {
   "cell_type": "code",
   "execution_count": 7,
   "metadata": {},
   "outputs": [
    {
     "data": {
      "text/plain": [
       "2019    50\n",
       "2018    50\n",
       "2017    50\n",
       "2016    50\n",
       "2015    50\n",
       "2014    50\n",
       "2013    50\n",
       "2012    50\n",
       "2011    50\n",
       "2010    50\n",
       "2009    50\n",
       "Name: Year, dtype: int64"
      ]
     },
     "execution_count": 7,
     "metadata": {},
     "output_type": "execute_result"
    }
   ],
   "source": [
    "# previewing distribution of year \n",
    "df.Year.value_counts()"
   ]
  },
  {
   "cell_type": "markdown",
   "metadata": {},
   "source": [
    "The number of records are evenly distributed across the years, 50 per year."
   ]
  },
  {
   "cell_type": "code",
   "execution_count": 8,
   "metadata": {},
   "outputs": [
    {
     "name": "stdout",
     "output_type": "stream",
     "text": [
      "Non Fiction    310\n",
      "Fiction        240\n",
      "Name: Genre, dtype: int64\n"
     ]
    },
    {
     "data": {
      "image/png": "[encoded data removed]",
      "text/plain": [
       "<Figure size 576x432 with 1 Axes>"
      ]
     },
     "metadata": {},
     "output_type": "display_data"
    }
   ],
   "source": [
    "# percentage of fiction to non fiction\n",
    "df.Genre.value_counts().plot(kind = 'pie', autopct = '%1.1f%%')\n",
    "print(df.Genre.value_counts())"
   ]
  },
  {
   "cell_type": "markdown",
   "metadata": {},
   "source": [
    "Non fiction books outnumber fiction books 310 to 240."
   ]
  },
  {
   "cell_type": "markdown",
   "metadata": {},
   "source": []
  },
  {
   "cell_type": "code",
   "execution_count": 9,
   "metadata": {},
   "outputs": [
    {
     "data": {
      "text/plain": [
       "Author\n",
       "Jill Twiss              4.9\n",
       "Bill Martin Jr.         4.9\n",
       "Nathan W. Pyle          4.9\n",
       "Patrick Thorpe          4.9\n",
       "Lin-Manuel Miranda      4.9\n",
       "Sherri Duskey Rinker    4.9\n",
       "Chip Gaines             4.9\n",
       "Alice Schertle          4.9\n",
       "Pete Souza              4.9\n",
       "Rush Limbaugh           4.9\n",
       "Name: User Rating, dtype: float64"
      ]
     },
     "execution_count": 9,
     "metadata": {},
     "output_type": "execute_result"
    }
   ],
   "source": [
    "# top 10 best-performing authors according to user rating\n",
    "df.groupby('Author')['User Rating'].mean().sort_values(ascending = False)[:10]"
   ]
  },
  {
   "cell_type": "code",
   "execution_count": 10,
   "metadata": {},
   "outputs": [
    {
     "data": {
      "text/plain": [
       "Author\n",
       "Delia Owens       87841.0\n",
       "Paula Hawkins     79446.0\n",
       "Michelle Obama    61133.0\n",
       "Gillian Flynn     57271.0\n",
       "Kristin Hannah    49288.0\n",
       "John Green        42083.8\n",
       "Andy Weir         39459.0\n",
       "Anthony Doerr     36348.0\n",
       "Paulo Coelho      35799.0\n",
       "Donna Tartt       33844.0\n",
       "Name: Reviews, dtype: float64"
      ]
     },
     "execution_count": 10,
     "metadata": {},
     "output_type": "execute_result"
    }
   ],
   "source": [
    "# top 10 best-performing authors according to number of reviews\n",
    "df.groupby('Author')['Reviews'].mean().sort_values(ascending = False)[:10]"
   ]
  },
  {
   "cell_type": "code",
   "execution_count": 11,
   "metadata": {},
   "outputs": [
    {
     "data": {
      "text/html": [
       "<div>\n",
       "<style scoped>\n",
       "    .dataframe tbody tr th:only-of-type {\n",
       "        vertical-align: middle;\n",
       "    }\n",
       "\n",
       "    .dataframe tbody tr th {\n",
       "        vertical-align: top;\n",
       "    }\n",
       "\n",
       "    .dataframe thead th {\n",
       "        text-align: right;\n",
       "    }\n",
       "</style>\n",
       "<table border=\"1\" class=\"dataframe\">\n",
       "  <thead>\n",
       "    <tr style=\"text-align: right;\">\n",
       "      <th></th>\n",
       "      <th>User Rating</th>\n",
       "      <th>Reviews</th>\n",
       "    </tr>\n",
       "    <tr>\n",
       "      <th>Author</th>\n",
       "      <th></th>\n",
       "      <th></th>\n",
       "    </tr>\n",
       "  </thead>\n",
       "  <tbody>\n",
       "    <tr>\n",
       "      <th>Bill Martin Jr.</th>\n",
       "      <td>4.9</td>\n",
       "      <td>14344.0</td>\n",
       "    </tr>\n",
       "    <tr>\n",
       "      <th>Jill Twiss</th>\n",
       "      <td>4.9</td>\n",
       "      <td>11881.0</td>\n",
       "    </tr>\n",
       "    <tr>\n",
       "      <th>Nathan W. Pyle</th>\n",
       "      <td>4.9</td>\n",
       "      <td>9382.0</td>\n",
       "    </tr>\n",
       "    <tr>\n",
       "      <th>Emily Winfield Martin</th>\n",
       "      <td>4.9</td>\n",
       "      <td>8842.0</td>\n",
       "    </tr>\n",
       "    <tr>\n",
       "      <th>Chip Gaines</th>\n",
       "      <td>4.9</td>\n",
       "      <td>7861.0</td>\n",
       "    </tr>\n",
       "    <tr>\n",
       "      <th>Sherri Duskey Rinker</th>\n",
       "      <td>4.9</td>\n",
       "      <td>7038.0</td>\n",
       "    </tr>\n",
       "    <tr>\n",
       "      <th>Lin-Manuel Miranda</th>\n",
       "      <td>4.9</td>\n",
       "      <td>5867.0</td>\n",
       "    </tr>\n",
       "    <tr>\n",
       "      <th>Rush Limbaugh</th>\n",
       "      <td>4.9</td>\n",
       "      <td>5493.0</td>\n",
       "    </tr>\n",
       "    <tr>\n",
       "      <th>Patrick Thorpe</th>\n",
       "      <td>4.9</td>\n",
       "      <td>5396.0</td>\n",
       "    </tr>\n",
       "    <tr>\n",
       "      <th>Pete Souza</th>\n",
       "      <td>4.9</td>\n",
       "      <td>3192.0</td>\n",
       "    </tr>\n",
       "  </tbody>\n",
       "</table>\n",
       "</div>"
      ],
      "text/plain": [
       "                       User Rating  Reviews\n",
       "Author                                     \n",
       "Bill Martin Jr.                4.9  14344.0\n",
       "Jill Twiss                     4.9  11881.0\n",
       "Nathan W. Pyle                 4.9   9382.0\n",
       "Emily Winfield Martin          4.9   8842.0\n",
       "Chip Gaines                    4.9   7861.0\n",
       "Sherri Duskey Rinker           4.9   7038.0\n",
       "Lin-Manuel Miranda             4.9   5867.0\n",
       "Rush Limbaugh                  4.9   5493.0\n",
       "Patrick Thorpe                 4.9   5396.0\n",
       "Pete Souza                     4.9   3192.0"
      ]
     },
     "execution_count": 11,
     "metadata": {},
     "output_type": "execute_result"
    }
   ],
   "source": [
    "# top 10 best-performing authors by both user rating and number of reviews\n",
    "df.groupby('Author')[['User Rating', 'Reviews']].mean().sort_values(['User Rating', 'Reviews'],\n",
    "                                                                    ascending = False)[:10]"
   ]
  },
  {
   "cell_type": "code",
   "execution_count": 12,
   "metadata": {},
   "outputs": [
    {
     "data": {
      "text/html": [
       "<div>\n",
       "<style scoped>\n",
       "    .dataframe tbody tr th:only-of-type {\n",
       "        vertical-align: middle;\n",
       "    }\n",
       "\n",
       "    .dataframe tbody tr th {\n",
       "        vertical-align: top;\n",
       "    }\n",
       "\n",
       "    .dataframe thead th {\n",
       "        text-align: right;\n",
       "    }\n",
       "</style>\n",
       "<table border=\"1\" class=\"dataframe\">\n",
       "  <thead>\n",
       "    <tr style=\"text-align: right;\">\n",
       "      <th></th>\n",
       "      <th>User Rating</th>\n",
       "      <th>Reviews</th>\n",
       "    </tr>\n",
       "    <tr>\n",
       "      <th>Author</th>\n",
       "      <th></th>\n",
       "      <th></th>\n",
       "    </tr>\n",
       "  </thead>\n",
       "  <tbody>\n",
       "    <tr>\n",
       "      <th>Bill Martin Jr.</th>\n",
       "      <td>4.9</td>\n",
       "      <td>14344.0</td>\n",
       "    </tr>\n",
       "  </tbody>\n",
       "</table>\n",
       "</div>"
      ],
      "text/plain": [
       "                 User Rating  Reviews\n",
       "Author                               \n",
       "Bill Martin Jr.          4.9  14344.0"
      ]
     },
     "execution_count": 12,
     "metadata": {},
     "output_type": "execute_result"
    }
   ],
   "source": [
    "# best author overall\n",
    "df.groupby('Author')[['User Rating', 'Reviews']].mean().sort_values(['User Rating', 'Reviews'],\n",
    "                                                                    ascending = False)[:1]"
   ]
  },
  {
   "cell_type": "markdown",
   "metadata": {},
   "source": []
  },
  {
   "cell_type": "code",
   "execution_count": 13,
   "metadata": {},
   "outputs": [
    {
     "data": {
      "text/plain": [
       "Name\n",
       "Where the Crawdads Sing                                                                     87841.0\n",
       "The Girl on the Train                                                                       79446.0\n",
       "Becoming                                                                                    61133.0\n",
       "Gone Girl                                                                                   57271.0\n",
       "The Fault in Our Stars                                                                      50482.0\n",
       "The Nightingale: A Novel                                                                    49288.0\n",
       "Fifty Shades of Grey: Book One of the Fifty Shades Trilogy (Fifty Shades of Grey Series)    47265.0\n",
       "The Martian                                                                                 39459.0\n",
       "All the Light We Cannot See                                                                 36348.0\n",
       "The Alchemist                                                                               35799.0\n",
       "Name: Reviews, dtype: float64"
      ]
     },
     "execution_count": 13,
     "metadata": {},
     "output_type": "execute_result"
    }
   ],
   "source": [
    "# top 10 books according to number of reviews\n",
    "df.groupby('Name')['Reviews'].mean().sort_values(ascending = False)[:10]"
   ]
  },
  {
   "cell_type": "code",
   "execution_count": 14,
   "metadata": {},
   "outputs": [
    {
     "data": {
      "text/plain": [
       "Name\n",
       "Strange Planet (Strange Planet Series)                                                                                     4.9\n",
       "Unfreedom of the Press                                                                                                     4.9\n",
       "Little Blue Truck                                                                                                          4.9\n",
       "Last Week Tonight with John Oliver Presents A Day in the Life of Marlon Bundo (Better Bundo Book, LGBT Childrens Book)    4.9\n",
       "The Wonderful Things You Will Be                                                                                           4.9\n",
       "Humans of New York : Stories                                                                                               4.9\n",
       "Dog Man and Cat Kid: From the Creator of Captain Underpants (Dog Man #4)                                                   4.9\n",
       "Dog Man: A Tale of Two Kitties: From the Creator of Captain Underpants (Dog Man #3)                                        4.9\n",
       "Dog Man: Brawl of the Wild: From the Creator of Captain Underpants (Dog Man #6)                                            4.9\n",
       "Dog Man: Fetch-22: From the Creator of Captain Underpants (Dog Man #8)                                                     4.9\n",
       "Name: User Rating, dtype: float64"
      ]
     },
     "execution_count": 14,
     "metadata": {},
     "output_type": "execute_result"
    }
   ],
   "source": [
    "# top 10 books according to user ratings\n",
    "df.groupby('Name')['User Rating'].mean().sort_values(ascending = False)[:10]"
   ]
  },
  {
   "cell_type": "code",
   "execution_count": 15,
   "metadata": {},
   "outputs": [
    {
     "data": {
      "text/html": [
       "<div>\n",
       "<style scoped>\n",
       "    .dataframe tbody tr th:only-of-type {\n",
       "        vertical-align: middle;\n",
       "    }\n",
       "\n",
       "    .dataframe tbody tr th {\n",
       "        vertical-align: top;\n",
       "    }\n",
       "\n",
       "    .dataframe thead th {\n",
       "        text-align: right;\n",
       "    }\n",
       "</style>\n",
       "<table border=\"1\" class=\"dataframe\">\n",
       "  <thead>\n",
       "    <tr style=\"text-align: right;\">\n",
       "      <th></th>\n",
       "      <th>User Rating</th>\n",
       "      <th>Reviews</th>\n",
       "    </tr>\n",
       "    <tr>\n",
       "      <th>Name</th>\n",
       "      <th></th>\n",
       "      <th></th>\n",
       "    </tr>\n",
       "  </thead>\n",
       "  <tbody>\n",
       "    <tr>\n",
       "      <th>Harry Potter and the Chamber of Secrets: The Illustrated Edition (Harry Potter, Book 2)</th>\n",
       "      <td>4.9</td>\n",
       "      <td>19622.0</td>\n",
       "    </tr>\n",
       "    <tr>\n",
       "      <th>Brown Bear, Brown Bear, What Do You See?</th>\n",
       "      <td>4.9</td>\n",
       "      <td>14344.0</td>\n",
       "    </tr>\n",
       "    <tr>\n",
       "      <th>Dog Man: Fetch-22: From the Creator of Captain Underpants (Dog Man #8)</th>\n",
       "      <td>4.9</td>\n",
       "      <td>12619.0</td>\n",
       "    </tr>\n",
       "    <tr>\n",
       "      <th>Last Week Tonight with John Oliver Presents A Day in the Life of Marlon Bundo (Better Bundo Book, LGBT Childrens Book)</th>\n",
       "      <td>4.9</td>\n",
       "      <td>11881.0</td>\n",
       "    </tr>\n",
       "    <tr>\n",
       "      <th>Harry Potter and the Sorcerer's Stone: The Illustrated Edition (Harry Potter, Book 1)</th>\n",
       "      <td>4.9</td>\n",
       "      <td>10052.0</td>\n",
       "    </tr>\n",
       "    <tr>\n",
       "      <th>Wrecking Ball (Diary of a Wimpy Kid Book 14)</th>\n",
       "      <td>4.9</td>\n",
       "      <td>9413.0</td>\n",
       "    </tr>\n",
       "    <tr>\n",
       "      <th>Strange Planet (Strange Planet Series)</th>\n",
       "      <td>4.9</td>\n",
       "      <td>9382.0</td>\n",
       "    </tr>\n",
       "    <tr>\n",
       "      <th>Dog Man: For Whom the Ball Rolls: From the Creator of Captain Underpants (Dog Man #7)</th>\n",
       "      <td>4.9</td>\n",
       "      <td>9089.0</td>\n",
       "    </tr>\n",
       "    <tr>\n",
       "      <th>The Wonderful Things You Will Be</th>\n",
       "      <td>4.9</td>\n",
       "      <td>8842.0</td>\n",
       "    </tr>\n",
       "    <tr>\n",
       "      <th>The Magnolia Story</th>\n",
       "      <td>4.9</td>\n",
       "      <td>7861.0</td>\n",
       "    </tr>\n",
       "  </tbody>\n",
       "</table>\n",
       "</div>"
      ],
      "text/plain": [
       "                                                    User Rating  Reviews\n",
       "Name                                                                    \n",
       "Harry Potter and the Chamber of Secrets: The Il...          4.9  19622.0\n",
       "Brown Bear, Brown Bear, What Do You See?                    4.9  14344.0\n",
       "Dog Man: Fetch-22: From the Creator of Captain ...          4.9  12619.0\n",
       "Last Week Tonight with John Oliver Presents A D...          4.9  11881.0\n",
       "Harry Potter and the Sorcerer's Stone: The Illu...          4.9  10052.0\n",
       "Wrecking Ball (Diary of a Wimpy Kid Book 14)                4.9   9413.0\n",
       "Strange Planet (Strange Planet Series)                      4.9   9382.0\n",
       "Dog Man: For Whom the Ball Rolls: From the Crea...          4.9   9089.0\n",
       "The Wonderful Things You Will Be                            4.9   8842.0\n",
       "The Magnolia Story                                          4.9   7861.0"
      ]
     },
     "execution_count": 15,
     "metadata": {},
     "output_type": "execute_result"
    }
   ],
   "source": [
    "# best selling books of the year based on both user rating and number of reviews\n",
    "df.groupby('Name')[['User Rating', 'Reviews']].mean().sort_values(['User Rating', 'Reviews'],\n",
    "                                                                    ascending = False)[:10]"
   ]
  },
  {
   "cell_type": "code",
   "execution_count": 16,
   "metadata": {},
   "outputs": [
    {
     "data": {
      "text/html": [
       "<div>\n",
       "<style scoped>\n",
       "    .dataframe tbody tr th:only-of-type {\n",
       "        vertical-align: middle;\n",
       "    }\n",
       "\n",
       "    .dataframe tbody tr th {\n",
       "        vertical-align: top;\n",
       "    }\n",
       "\n",
       "    .dataframe thead th {\n",
       "        text-align: right;\n",
       "    }\n",
       "</style>\n",
       "<table border=\"1\" class=\"dataframe\">\n",
       "  <thead>\n",
       "    <tr style=\"text-align: right;\">\n",
       "      <th></th>\n",
       "      <th>User Rating</th>\n",
       "      <th>Reviews</th>\n",
       "    </tr>\n",
       "    <tr>\n",
       "      <th>Name</th>\n",
       "      <th></th>\n",
       "      <th></th>\n",
       "    </tr>\n",
       "  </thead>\n",
       "  <tbody>\n",
       "    <tr>\n",
       "      <th>Harry Potter and the Chamber of Secrets: The Illustrated Edition (Harry Potter, Book 2)</th>\n",
       "      <td>4.9</td>\n",
       "      <td>19622.0</td>\n",
       "    </tr>\n",
       "  </tbody>\n",
       "</table>\n",
       "</div>"
      ],
      "text/plain": [
       "                                                    User Rating  Reviews\n",
       "Name                                                                    \n",
       "Harry Potter and the Chamber of Secrets: The Il...          4.9  19622.0"
      ]
     },
     "execution_count": 16,
     "metadata": {},
     "output_type": "execute_result"
    }
   ],
   "source": [
    "# best book overall\n",
    "df.groupby('Name')[['User Rating', 'Reviews']].mean().sort_values(['User Rating', 'Reviews'],\n",
    "                                                                    ascending = False)[:1]"
   ]
  },
  {
   "cell_type": "markdown",
   "metadata": {},
   "source": []
  },
  {
   "cell_type": "code",
   "execution_count": 17,
   "metadata": {
    "scrolled": false
   },
   "outputs": [
    {
     "name": "stdout",
     "output_type": "stream",
     "text": [
      "Showing results for Year *2009*\n",
      "Best-selling Author: Kathryn Stockett\n",
      "Best-selling Book: The Help\n",
      "\n",
      "Showing results for Year *2010*\n",
      "Best-selling Author: Laura Hillenbrand\n",
      "Best-selling Book: Unbroken: A World War II Story of Survival, Resilience, and Redemption\n",
      "\n",
      "Showing results for Year *2011*\n",
      "Best-selling Author: Sarah Young\n",
      "Best-selling Book: Jesus Calling: Enjoying Peace in His Presence (with Scripture References)\n",
      "\n",
      "Showing results for Year *2012*\n",
      "Best-selling Author: Dr. Seuss\n",
      "Best-selling Book: Oh, the Places You'll Go!\n",
      "\n",
      "Showing results for Year *2013*\n",
      "Best-selling Author: Dr. Seuss\n",
      "Best-selling Book: Oh, the Places You'll Go!\n",
      "\n",
      "Showing results for Year *2014*\n",
      "Best-selling Author: Dr. Seuss\n",
      "Best-selling Book: Oh, the Places You'll Go!\n",
      "\n",
      "Showing results for Year *2015*\n",
      "Best-selling Author: Sarah Young\n",
      "Best-selling Book: Oh, the Places You'll Go!\n",
      "\n",
      "Showing results for Year *2016*\n",
      "Best-selling Author: Dr. Seuss\n",
      "Best-selling Book: Oh, the Places You'll Go!\n",
      "\n",
      "Showing results for Year *2017*\n",
      "Best-selling Author: Dr. Seuss\n",
      "Best-selling Book: Oh, the Places You'll Go!\n",
      "\n",
      "Showing results for Year *2018*\n",
      "Best-selling Author: Dr. Seuss\n",
      "Best-selling Book: Oh, the Places You'll Go!\n",
      "\n",
      "Showing results for Year *2019*\n",
      "Best-selling Author: Dr. Seuss\n",
      "Best-selling Book: Oh, the Places You'll Go!\n",
      "\n"
     ]
    }
   ],
   "source": [
    "# getting the best author and book per year based on user rating and number of reviews\n",
    "years = list(df.Year.unique())\n",
    "years.sort()\n",
    "\n",
    "for year in years:\n",
    "    current_year = df.loc[df['Year'] == year]\n",
    "    best_author = current_year.groupby('Author')[['User Rating', \n",
    "                                                  'Reviews']].mean().sort_values(['User Rating',\n",
    "                                                                                  'Reviews'],\n",
    "                                                                    ascending = False)[:1]\n",
    "    best_book = current_year.groupby('Name')[['User Rating',\n",
    "                                              'Reviews']].mean().sort_values(['User Rating',\n",
    "                                                                              'Reviews'],\n",
    "                                                                    ascending = False)[:1]\n",
    "    print(\"Showing results for Year *{}*\".format(year))\n",
    "    print(\"Best-selling Author:\", best_author.index[0])\n",
    "    print(\"Best-selling Book:\", best_book.index[0])\n",
    "    print()   \n"
   ]
  },
  {
   "cell_type": "code",
   "execution_count": null,
   "metadata": {},
   "outputs": [],
   "source": []
  },
  {
   "cell_type": "code",
   "execution_count": 18,
   "metadata": {},
   "outputs": [],
   "source": [
    "# getting the average ratings, reviews, and prices for each year\n",
    "yearly_ratings = []\n",
    "yearly_reviews = []\n",
    "yearly_prices = []\n",
    "\n",
    "for year in years:\n",
    "    current_year = df.loc[df['Year'] == year]\n",
    "    yearly_ratings.append(round(current_year['User Rating'].mean(), 2))\n",
    "    yearly_reviews.append(round(current_year['Reviews'].mean(), 2))\n",
    "    yearly_prices.append(round(current_year['Price'].mean(), 2))"
   ]
  },
  {
   "cell_type": "code",
   "execution_count": 19,
   "metadata": {},
   "outputs": [
    {
     "data": {
      "image/png": "[encoded data removed]",
      "text/plain": [
       "<Figure size 576x432 with 1 Axes>"
      ]
     },
     "metadata": {
      "needs_background": "light"
     },
     "output_type": "display_data"
    }
   ],
   "source": [
    "# plotting the average ratings for each year\n",
    "plt.plot(years, yearly_ratings)\n",
    "plt.title('Average User Ratings per Year')\n",
    "plt.xlabel('year')\n",
    "plt.ylabel('average user ratings')\n",
    "plt.show()"
   ]
  },
  {
   "cell_type": "markdown",
   "metadata": {},
   "source": [
    "The average user ratings show a general upward trend from 2012. Before that, the trend line was decreasing."
   ]
  },
  {
   "cell_type": "code",
   "execution_count": 20,
   "metadata": {},
   "outputs": [
    {
     "data": {
      "image/png": "[encoded data removed]",
      "text/plain": [
       "<Figure size 576x432 with 1 Axes>"
      ]
     },
     "metadata": {
      "needs_background": "light"
     },
     "output_type": "display_data"
    }
   ],
   "source": [
    "# plotting the average reviews for each year\n",
    "plt.plot(years, yearly_reviews)\n",
    "plt.title('Average Reviews per Year')\n",
    "plt.xlabel('year')\n",
    "plt.ylabel('average reviews')\n",
    "plt.show()"
   ]
  },
  {
   "cell_type": "markdown",
   "metadata": {},
   "source": [
    "The average number of reviews are on an upwards/increasing trend, peaking at 2014."
   ]
  },
  {
   "cell_type": "code",
   "execution_count": 21,
   "metadata": {},
   "outputs": [
    {
     "data": {
      "image/png": "[encoded data removed]",
      "text/plain": [
       "<Figure size 576x432 with 1 Axes>"
      ]
     },
     "metadata": {
      "needs_background": "light"
     },
     "output_type": "display_data"
    }
   ],
   "source": [
    "# plotting the average prices for each year\n",
    "plt.plot(years, yearly_prices)\n",
    "plt.title('Average Prices per Year')\n",
    "plt.xlabel('year')\n",
    "plt.ylabel('average prices')\n",
    "plt.show()"
   ]
  },
  {
   "cell_type": "markdown",
   "metadata": {},
   "source": [
    "The average prices show a declining trend from 2014."
   ]
  },
  {
   "cell_type": "code",
   "execution_count": 22,
   "metadata": {},
   "outputs": [
    {
     "data": {
      "image/png": "[encoded data removed]",
      "text/plain": [
       "<Figure size 576x432 with 2 Axes>"
      ]
     },
     "metadata": {
      "needs_background": "light"
     },
     "output_type": "display_data"
    }
   ],
   "source": [
    "# is there a correlation between the prices, the number of reviews, and the user ratings?\n",
    "df2 = df[['User Rating', 'Reviews', 'Price']]\n",
    "sns.heatmap(df2.corr(), cmap = 'coolwarm', annot = True)\n",
    "plt.title(\"Correlation between prices, reviews, and user ratings\")\n",
    "plt.show()"
   ]
  },
  {
   "cell_type": "markdown",
   "metadata": {},
   "source": [
    "There does not seem to be any correlations between the three variables."
   ]
  }
 ],
 "metadata": {
  "kernelspec": {
   "display_name": "Python 3",
   "language": "python",
   "name": "python3"
  },
  "language_info": {
   "codemirror_mode": {
    "name": "ipython",
    "version": 3
   },
   "file_extension": ".py",
   "mimetype": "text/x-python",
   "name": "python",
   "nbconvert_exporter": "python",
   "pygments_lexer": "ipython3",
   "version": "3.8.5"
  }
 },
 "nbformat": 4,
 "nbformat_minor": 4
}
